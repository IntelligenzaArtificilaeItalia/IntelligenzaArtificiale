{
 "cells": [
  {
   "cell_type": "markdown",
   "id": "d3c20738",
   "metadata": {},
   "source": [
    "# Esempi di Utilizzo del MODULO DATASET della libreria IntelligenzaArtificiale"
   ]
  },
  {
   "cell_type": "markdown",
   "id": "35678dff",
   "metadata": {},
   "source": [
    "## Installare la libreria\n"
   ]
  },
  {
   "cell_type": "code",
   "execution_count": null,
   "id": "d93b69b0",
   "metadata": {},
   "outputs": [],
   "source": [
    "#Per installare la libreria sul tuo computer puoi usare il comando :\n",
    "pip3 install intelligenzaartificiale"
   ]
  },
  {
   "cell_type": "code",
   "execution_count": null,
   "id": "77747c7a",
   "metadata": {},
   "outputs": [],
   "source": [
    "#se invece utilizzi google colab puoi usare:\n",
    "!pip install intelligenzaartificiale"
   ]
  },
  {
   "cell_type": "markdown",
   "id": "5dd43619",
   "metadata": {},
   "source": [
    "## Importare il MODULO DATASET"
   ]
  },
  {
   "cell_type": "code",
   "execution_count": 2,
   "id": "fd20e5af",
   "metadata": {},
   "outputs": [],
   "source": [
    "from intelligenzaartificiale import dataset as dt"
   ]
  },
  {
   "cell_type": "markdown",
   "id": "6d3ea0a2",
   "metadata": {},
   "source": [
    "## Caricare e lavorare oltre 750+ Dataset INCORPORATI"
   ]
  },
  {
   "cell_type": "code",
   "execution_count": 4,
   "id": "ce08d0b7",
   "metadata": {},
   "outputs": [
    {
     "name": "stdout",
     "output_type": "stream",
     "text": [
      "        dataset_id                                             title\n",
      "0    AirPassengers       Monthly Airline Passenger Numbers 1949-1960\n",
      "1          BJsales                 Sales Data with Leading Indicator\n",
      "2              BOD                         Biochemical Oxygen Demand\n",
      "3     Formaldehyde                     Determination of Formaldehyde\n",
      "4     HairEyeColor         Hair and Eye Color of Statistics Students\n",
      "..             ...                                               ...\n",
      "752        VerbAgg                  Verbal Aggression item responses\n",
      "753           cake                 Breakage Angle of Chocolate Cakes\n",
      "754           cbpp                 Contagious bovine pleuropneumonia\n",
      "755    grouseticks  Data on red grouse ticks from Elston et al. 2001\n",
      "756     sleepstudy       Reaction times in a sleep deprivation study\n",
      "\n",
      "[757 rows x 2 columns]\n"
     ]
    }
   ],
   "source": [
    "print(dt.lista_datasets())"
   ]
  },
  {
   "cell_type": "code",
   "execution_count": 5,
   "id": "38683646",
   "metadata": {},
   "outputs": [
    {
     "name": "stdout",
     "output_type": "stream",
     "text": [
      "\n",
      "    Two-dimensional, size-mutable, potentially heterogeneous tabular data.\n",
      "\n",
      "    Data structure also contains labeled axes (rows and columns).\n",
      "    Arithmetic operations align on both row and column labels. Can be\n",
      "    thought of as a dict-like container for Series objects. The primary\n",
      "    pandas data structure.\n",
      "\n",
      "    Parameters\n",
      "    ----------\n",
      "    data : ndarray (structured or homogeneous), Iterable, dict, or DataFrame\n",
      "        Dict can contain Series, arrays, constants, or list-like objects.\n",
      "\n",
      "        .. versionchanged:: 0.23.0\n",
      "           If data is a dict, column order follows insertion-order for\n",
      "           Python 3.6 and later.\n",
      "\n",
      "        .. versionchanged:: 0.25.0\n",
      "           If data is a list of dicts, column order follows insertion-order\n",
      "           for Python 3.6 and later.\n",
      "\n",
      "    index : Index or array-like\n",
      "        Index to use for resulting frame. Will default to RangeIndex if\n",
      "        no indexing information part of input data and no index provided.\n",
      "    columns : Index or array-like\n",
      "        Column labels to use for resulting frame. Will default to\n",
      "        RangeIndex (0, 1, 2, ..., n) if no column labels are provided.\n",
      "    dtype : dtype, default None\n",
      "        Data type to force. Only a single dtype is allowed. If None, infer.\n",
      "    copy : bool, default False\n",
      "        Copy data from inputs. Only affects DataFrame / 2d ndarray input.\n",
      "\n",
      "    See Also\n",
      "    --------\n",
      "    DataFrame.from_records : Constructor from tuples, also record arrays.\n",
      "    DataFrame.from_dict : From dicts of Series, arrays, or dicts.\n",
      "    read_csv : Read a comma-separated values (csv) file into DataFrame.\n",
      "    read_table : Read general delimited file into DataFrame.\n",
      "    read_clipboard : Read text from clipboard into DataFrame.\n",
      "\n",
      "    Examples\n",
      "    --------\n",
      "    Constructing DataFrame from a dictionary.\n",
      "\n",
      "    >>> d = {'col1': [1, 2], 'col2': [3, 4]}\n",
      "    >>> df = pd.DataFrame(data=d)\n",
      "    >>> df\n",
      "       col1  col2\n",
      "    0     1     3\n",
      "    1     2     4\n",
      "\n",
      "    Notice that the inferred dtype is int64.\n",
      "\n",
      "    >>> df.dtypes\n",
      "    col1    int64\n",
      "    col2    int64\n",
      "    dtype: object\n",
      "\n",
      "    To enforce a single dtype:\n",
      "\n",
      "    >>> df = pd.DataFrame(data=d, dtype=np.int8)\n",
      "    >>> df.dtypes\n",
      "    col1    int8\n",
      "    col2    int8\n",
      "    dtype: object\n",
      "\n",
      "    Constructing DataFrame from numpy ndarray:\n",
      "\n",
      "    >>> df2 = pd.DataFrame(np.array([[1, 2, 3], [4, 5, 6], [7, 8, 9]]),\n",
      "    ...                    columns=['a', 'b', 'c'])\n",
      "    >>> df2\n",
      "       a  b  c\n",
      "    0  1  2  3\n",
      "    1  4  5  6\n",
      "    2  7  8  9\n",
      "    \n",
      "None\n"
     ]
    }
   ],
   "source": [
    "print(dt.documentazione_dataset(\"VerbAgg\"))"
   ]
  },
  {
   "cell_type": "code",
   "execution_count": 6,
   "id": "74333c31",
   "metadata": {},
   "outputs": [
    {
     "name": "stdout",
     "output_type": "stream",
     "text": [
      "      Anger Gender         item     resp   id  btype   situ  mode r2\n",
      "1        20      M  S1WantCurse       no    1  curse  other  want  N\n",
      "2        11      M  S1WantCurse       no    2  curse  other  want  N\n",
      "3        17      F  S1WantCurse  perhaps    3  curse  other  want  Y\n",
      "4        21      F  S1WantCurse  perhaps    4  curse  other  want  Y\n",
      "5        17      F  S1WantCurse  perhaps    5  curse  other  want  Y\n",
      "...     ...    ...          ...      ...  ...    ...    ...   ... ..\n",
      "7580     17      M    S4DoShout       no  312  shout   self    do  N\n",
      "7581     20      F    S4DoShout       no  313  shout   self    do  N\n",
      "7582     25      F    S4DoShout       no  314  shout   self    do  N\n",
      "7583     23      F    S4DoShout       no  315  shout   self    do  N\n",
      "7584     12      F    S4DoShout       no  316  shout   self    do  N\n",
      "\n",
      "[7584 rows x 9 columns]\n"
     ]
    }
   ],
   "source": [
    "#ritorna il dataframe del dataset richiesto\n",
    "il_mio_dataset= dt.importa_dataset(\"VerbAgg\")\n",
    "\n",
    "print(il_mio_dataset)"
   ]
  },
  {
   "cell_type": "markdown",
   "id": "1e957e20",
   "metadata": {},
   "source": [
    "## Altre risorse\n",
    "#### - [Documentazione Ufficiale](https://pypi.org/project/intelligenzaartificiale/)\n",
    "#### - [Blog Ufficiale](https://www.intelligenzaartificialeitalia.net/)\n",
    "#### - [Corsi Gratis](https://www.intelligenzaartificialeitalia.net/corsi-intelligenza-artificiale-gratis)\n",
    "#### - [Ebook Gratis](https://www.intelligenzaartificialeitalia.net/ebook-gratis-intelligenza-artificiale)\n",
    "#### - [Progetti Python Open Source](https://www.intelligenzaartificialeitalia.net/progettiintelligenzaartificiale)\n",
    "#### - [Dataset Pubblici](https://www.intelligenzaartificialeitalia.net/dataset)\n",
    "#### - [Editor Python Online per il M.L.](https://www.intelligenzaartificialeitalia.net/onlinepythoneditor)\n",
    "\n",
    "# Per favore citaci se usi la Libreria."
   ]
  }
 ],
 "metadata": {
  "kernelspec": {
   "display_name": "Python 3",
   "language": "python",
   "name": "python3"
  },
  "language_info": {
   "codemirror_mode": {
    "name": "ipython",
    "version": 3
   },
   "file_extension": ".py",
   "mimetype": "text/x-python",
   "name": "python",
   "nbconvert_exporter": "python",
   "pygments_lexer": "ipython3",
   "version": "3.8.10"
  }
 },
 "nbformat": 4,
 "nbformat_minor": 5
}
