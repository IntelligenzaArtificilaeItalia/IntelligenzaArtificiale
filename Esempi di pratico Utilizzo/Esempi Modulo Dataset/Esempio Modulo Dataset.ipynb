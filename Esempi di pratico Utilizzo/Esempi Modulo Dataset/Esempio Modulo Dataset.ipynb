{
 "cells": [
  {
   "cell_type": "markdown",
   "id": "6f8d82ba",
   "metadata": {},
   "source": [
    "# Esempi di Utilizzo del MODULO DATASET della libreria IntelligenzaArtificiale"
   ]
  },
  {
   "cell_type": "markdown",
   "id": "2bac8961",
   "metadata": {},
   "source": [
    "## Installare la libreria\n",
    "\n",
    "\n"
   ]
  },
  {
   "cell_type": "code",
   "execution_count": null,
   "id": "6e65d956",
   "metadata": {},
   "outputs": [],
   "source": [
    "#Per installare la libreria sul tuo computer puoi usare il comando :\n",
    "pip3 install intelligenzaartificiale"
   ]
  },
  {
   "cell_type": "code",
   "execution_count": null,
   "id": "b3e8b2c2",
   "metadata": {},
   "outputs": [],
   "source": [
    "#se invece utilizzi google colab puoi usare:\n",
    "!pip install intelligenzaartificiale"
   ]
  },
  {
   "cell_type": "markdown",
   "id": "bb609d58",
   "metadata": {},
   "source": [
    "## Importare il MODULO DATASET"
   ]
  },
  {
   "cell_type": "code",
   "execution_count": 1,
   "id": "f19863b8",
   "metadata": {},
   "outputs": [],
   "source": [
    "from intelligenzaartificiale import dataset as dt"
   ]
  },
  {
   "cell_type": "markdown",
   "id": "6a0d52ba",
   "metadata": {},
   "source": [
    "## Leggere dataset da file locali [.csv, .xls, .html, .json]"
   ]
  },
  {
   "cell_type": "code",
   "execution_count": 2,
   "id": "95bff371",
   "metadata": {},
   "outputs": [
    {
     "name": "stdout",
     "output_type": "stream",
     "text": [
      "Tempo impiegato per leggere il file:  0.0038018226623535156\n",
      "     gender race/ethnicity parental level of education         lunch  \\\n",
      "0      male        group E           bachelor's degree      standard   \n",
      "1    female        group D                some college  free/reduced   \n",
      "2      male        group E                 high school  free/reduced   \n",
      "3      male        group C             master's degree  free/reduced   \n",
      "4      male        group D             master's degree  free/reduced   \n",
      "..      ...            ...                         ...           ...   \n",
      "995  female        group B                 high school      standard   \n",
      "996  female        group C                some college      standard   \n",
      "997    male        group C            some high school  free/reduced   \n",
      "998  female        group D             master's degree      standard   \n",
      "999    male        group A                 high school      standard   \n",
      "\n",
      "    test preparation course  math score  reading score  writing score  \n",
      "0                      none          78             59             64  \n",
      "1                      none          47             52             50  \n",
      "2                      none          62             47             46  \n",
      "3                 completed          55             65             68  \n",
      "4                      none          61             54             55  \n",
      "..                      ...         ...            ...            ...  \n",
      "995                    none          33             36             33  \n",
      "996                    none          52             59             64  \n",
      "997                    none          66             64             62  \n",
      "998               completed          99            100            100  \n",
      "999                    none          46             33             30  \n",
      "\n",
      "[1000 rows x 8 columns]\n"
     ]
    }
   ],
   "source": [
    "il_mio_dataset = dt.leggi_csv(\"exams.csv\")\n",
    "# dt.leggi_xls(\"file.xls\") -> Excel\n",
    "# dt.leggi_sheet(\"file.xls\",\"nomeFoglio\") -> Excel\n",
    "# dt.leggi_html(\"file.html\") -> Html\n",
    "# dt.leggi_json(\"file.json\") -> Json\n",
    "\n",
    "print(il_mio_dataset)"
   ]
  },
  {
   "cell_type": "markdown",
   "id": "686b37ce",
   "metadata": {},
   "source": [
    "## Ottenere informazioni di base sulle colonne"
   ]
  },
  {
   "cell_type": "code",
   "execution_count": 3,
   "id": "e53739f6",
   "metadata": {},
   "outputs": [
    {
     "name": "stdout",
     "output_type": "stream",
     "text": [
      "Index(['gender', 'race/ethnicity', 'parental level of education', 'lunch',\n",
      "       'test preparation course', 'math score', 'reading score',\n",
      "       'writing score'],\n",
      "      dtype='object')\n",
      "\n",
      " -------------------------- \n",
      "\n",
      "gender                         object\n",
      "race/ethnicity                 object\n",
      "parental level of education    object\n",
      "lunch                          object\n",
      "test preparation course        object\n",
      "math score                      int64\n",
      "reading score                   int64\n",
      "writing score                   int64\n",
      "dtype: object\n"
     ]
    }
   ],
   "source": [
    "#ottenere una lista con il nome di tutte le colonne\n",
    "print(dt.lista_colonne(il_mio_dataset))\n",
    "\n",
    "print(\"\\n -------------------------- \\n\")\n",
    "\n",
    "#ottenere informazioni sui tipi da dati contenuti nel dataset\n",
    "print(dt.tipo_colonne(il_mio_dataset))"
   ]
  },
  {
   "cell_type": "markdown",
   "id": "344ec447",
   "metadata": {},
   "source": [
    "## Rimuovere una o più colonne"
   ]
  },
  {
   "cell_type": "code",
   "execution_count": 4,
   "id": "a980e19f",
   "metadata": {},
   "outputs": [
    {
     "name": "stdout",
     "output_type": "stream",
     "text": [
      "race/ethnicity             object\n",
      "lunch                      object\n",
      "test preparation course    object\n",
      "math score                  int64\n",
      "reading score               int64\n",
      "writing score               int64\n",
      "dtype: object\n"
     ]
    }
   ],
   "source": [
    "#rimuovere una singola colonna\n",
    "nuovo_dataset = dt.rimuovi_colonna(il_mio_dataset, \"lunch\")\n",
    "\n",
    "#rimuovere una lista di colonne\n",
    "nuovo_dataset = dt.rimuovi_colonne(il_mio_dataset, [\"gender\", \"parental level of education\"])\n",
    "\n",
    "print(dt.tipo_colonne(nuovo_dataset))"
   ]
  },
  {
   "cell_type": "markdown",
   "id": "275f7e02",
   "metadata": {},
   "source": [
    "## Separare i vari tipi di dato"
   ]
  },
  {
   "cell_type": "code",
   "execution_count": null,
   "id": "3868f828",
   "metadata": {},
   "outputs": [],
   "source": [
    "valori_numerici = dt.numerici(il_mio_dataset)\n",
    "print(valori_numerici)\n",
    "print(\"\\n -------------------------- \\n\")\n",
    "\n",
    "valori_categorici = dt.categorici(il_mio_dataset)\n",
    "print(valori_categorici)\n",
    "print(\"\\n -------------------------- \\n\")\n",
    "\n",
    "valori_booleani = dt.booleani(il_mio_dataset)\n",
    "print(valori_booleani)\n",
    "print(\"\\n -------------------------- \\n\")"
   ]
  },
  {
   "cell_type": "markdown",
   "id": "02f00736",
   "metadata": {},
   "source": [
    "## Altre risorse\n",
    "#### - [Documentazione Ufficiale](https://pypi.org/project/intelligenzaartificiale/)\n",
    "#### - [Blog Ufficiale](https://www.intelligenzaartificialeitalia.net/)\n",
    "#### - [Corsi Gratis](https://www.intelligenzaartificialeitalia.net/corsi-intelligenza-artificiale-gratis)\n",
    "#### - [Ebook Gratis](https://www.intelligenzaartificialeitalia.net/ebook-gratis-intelligenza-artificiale)\n",
    "#### - [Progetti Python Open Source](https://www.intelligenzaartificialeitalia.net/progettiintelligenzaartificiale)\n",
    "#### - [Dataset Pubblici](https://www.intelligenzaartificialeitalia.net/dataset)\n",
    "#### - [Editor Python Online per il M.L.](https://www.intelligenzaartificialeitalia.net/onlinepythoneditor)\n",
    "\n",
    "# Per favore citaci se usi la Libreria."
   ]
  }
 ],
 "metadata": {
  "kernelspec": {
   "display_name": "Python 3",
   "language": "python",
   "name": "python3"
  },
  "language_info": {
   "codemirror_mode": {
    "name": "ipython",
    "version": 3
   },
   "file_extension": ".py",
   "mimetype": "text/x-python",
   "name": "python",
   "nbconvert_exporter": "python",
   "pygments_lexer": "ipython3",
   "version": "3.8.10"
  }
 },
 "nbformat": 4,
 "nbformat_minor": 5
}
